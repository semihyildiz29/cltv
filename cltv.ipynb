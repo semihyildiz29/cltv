{
 "cells": [
  {
   "cell_type": "code",
   "execution_count": 1,
   "id": "299612c3-59b3-41db-b2f3-a0e4063ba8b8",
   "metadata": {
    "tags": []
   },
   "outputs": [],
   "source": [
    "import pandas as pd\n",
    "from sklearn.preprocessing import MinMaxScaler\n",
    "pd.set_option('display.max_columns', None)\n",
    "pd.set_option('display.max_rows', None)\n",
    "pd.set_option('display.float_format', lambda x: '%.5f' % x)"
   ]
  },
  {
   "cell_type": "code",
   "execution_count": 2,
   "id": "6b725b71-64ba-4fbd-97b0-61cbcbb05c29",
   "metadata": {
    "tags": []
   },
   "outputs": [],
   "source": [
    "df_ = pd.read_excel(\"online_retail_II.xlsx\", sheet_name=\"Year 2009-2010\")"
   ]
  },
  {
   "cell_type": "code",
   "execution_count": 3,
   "id": "9832e510-771a-41c5-b0a2-d7e519b4b483",
   "metadata": {
    "tags": []
   },
   "outputs": [],
   "source": [
    "df = df_.copy()"
   ]
  },
  {
   "cell_type": "code",
   "execution_count": 4,
   "id": "a9d78791-d169-4283-b2be-c3cc989f03d8",
   "metadata": {
    "tags": []
   },
   "outputs": [
    {
     "data": {
      "text/html": [
       "<div>\n",
       "<style scoped>\n",
       "    .dataframe tbody tr th:only-of-type {\n",
       "        vertical-align: middle;\n",
       "    }\n",
       "\n",
       "    .dataframe tbody tr th {\n",
       "        vertical-align: top;\n",
       "    }\n",
       "\n",
       "    .dataframe thead th {\n",
       "        text-align: right;\n",
       "    }\n",
       "</style>\n",
       "<table border=\"1\" class=\"dataframe\">\n",
       "  <thead>\n",
       "    <tr style=\"text-align: right;\">\n",
       "      <th></th>\n",
       "      <th>Invoice</th>\n",
       "      <th>StockCode</th>\n",
       "      <th>Description</th>\n",
       "      <th>Quantity</th>\n",
       "      <th>InvoiceDate</th>\n",
       "      <th>Price</th>\n",
       "      <th>Customer ID</th>\n",
       "      <th>Country</th>\n",
       "    </tr>\n",
       "  </thead>\n",
       "  <tbody>\n",
       "    <tr>\n",
       "      <th>0</th>\n",
       "      <td>489434</td>\n",
       "      <td>85048</td>\n",
       "      <td>15CM CHRISTMAS GLASS BALL 20 LIGHTS</td>\n",
       "      <td>12</td>\n",
       "      <td>2009-12-01 07:45:00</td>\n",
       "      <td>6.95000</td>\n",
       "      <td>13085.00000</td>\n",
       "      <td>United Kingdom</td>\n",
       "    </tr>\n",
       "    <tr>\n",
       "      <th>1</th>\n",
       "      <td>489434</td>\n",
       "      <td>79323P</td>\n",
       "      <td>PINK CHERRY LIGHTS</td>\n",
       "      <td>12</td>\n",
       "      <td>2009-12-01 07:45:00</td>\n",
       "      <td>6.75000</td>\n",
       "      <td>13085.00000</td>\n",
       "      <td>United Kingdom</td>\n",
       "    </tr>\n",
       "    <tr>\n",
       "      <th>2</th>\n",
       "      <td>489434</td>\n",
       "      <td>79323W</td>\n",
       "      <td>WHITE CHERRY LIGHTS</td>\n",
       "      <td>12</td>\n",
       "      <td>2009-12-01 07:45:00</td>\n",
       "      <td>6.75000</td>\n",
       "      <td>13085.00000</td>\n",
       "      <td>United Kingdom</td>\n",
       "    </tr>\n",
       "    <tr>\n",
       "      <th>3</th>\n",
       "      <td>489434</td>\n",
       "      <td>22041</td>\n",
       "      <td>RECORD FRAME 7\" SINGLE SIZE</td>\n",
       "      <td>48</td>\n",
       "      <td>2009-12-01 07:45:00</td>\n",
       "      <td>2.10000</td>\n",
       "      <td>13085.00000</td>\n",
       "      <td>United Kingdom</td>\n",
       "    </tr>\n",
       "    <tr>\n",
       "      <th>4</th>\n",
       "      <td>489434</td>\n",
       "      <td>21232</td>\n",
       "      <td>STRAWBERRY CERAMIC TRINKET BOX</td>\n",
       "      <td>24</td>\n",
       "      <td>2009-12-01 07:45:00</td>\n",
       "      <td>1.25000</td>\n",
       "      <td>13085.00000</td>\n",
       "      <td>United Kingdom</td>\n",
       "    </tr>\n",
       "  </tbody>\n",
       "</table>\n",
       "</div>"
      ],
      "text/plain": [
       "  Invoice StockCode                          Description  Quantity  \\\n",
       "0  489434     85048  15CM CHRISTMAS GLASS BALL 20 LIGHTS        12   \n",
       "1  489434    79323P                   PINK CHERRY LIGHTS        12   \n",
       "2  489434    79323W                  WHITE CHERRY LIGHTS        12   \n",
       "3  489434     22041         RECORD FRAME 7\" SINGLE SIZE         48   \n",
       "4  489434     21232       STRAWBERRY CERAMIC TRINKET BOX        24   \n",
       "\n",
       "          InvoiceDate   Price  Customer ID         Country  \n",
       "0 2009-12-01 07:45:00 6.95000  13085.00000  United Kingdom  \n",
       "1 2009-12-01 07:45:00 6.75000  13085.00000  United Kingdom  \n",
       "2 2009-12-01 07:45:00 6.75000  13085.00000  United Kingdom  \n",
       "3 2009-12-01 07:45:00 2.10000  13085.00000  United Kingdom  \n",
       "4 2009-12-01 07:45:00 1.25000  13085.00000  United Kingdom  "
      ]
     },
     "execution_count": 4,
     "metadata": {},
     "output_type": "execute_result"
    }
   ],
   "source": [
    "df.head()"
   ]
  },
  {
   "cell_type": "code",
   "execution_count": 5,
   "id": "b6a42a1c-69a6-4926-9cde-45d36f200e9e",
   "metadata": {
    "tags": []
   },
   "outputs": [
    {
     "data": {
      "text/plain": [
       "Invoice             0\n",
       "StockCode           0\n",
       "Description      2928\n",
       "Quantity            0\n",
       "InvoiceDate         0\n",
       "Price               0\n",
       "Customer ID    107927\n",
       "Country             0\n",
       "dtype: int64"
      ]
     },
     "execution_count": 5,
     "metadata": {},
     "output_type": "execute_result"
    }
   ],
   "source": [
    "df.isnull().sum()"
   ]
  },
  {
   "cell_type": "code",
   "execution_count": 6,
   "id": "eb82b150-c57a-49ba-af36-772cbca151a3",
   "metadata": {
    "tags": []
   },
   "outputs": [],
   "source": [
    "df = df[~df[\"Invoice\"].str.contains(\"C\", na=False)]"
   ]
  },
  {
   "cell_type": "code",
   "execution_count": 7,
   "id": "ad3a3580-c122-4348-a82d-260567bf846a",
   "metadata": {
    "tags": []
   },
   "outputs": [
    {
     "data": {
      "text/html": [
       "<div>\n",
       "<style scoped>\n",
       "    .dataframe tbody tr th:only-of-type {\n",
       "        vertical-align: middle;\n",
       "    }\n",
       "\n",
       "    .dataframe tbody tr th {\n",
       "        vertical-align: top;\n",
       "    }\n",
       "\n",
       "    .dataframe thead th {\n",
       "        text-align: right;\n",
       "    }\n",
       "</style>\n",
       "<table border=\"1\" class=\"dataframe\">\n",
       "  <thead>\n",
       "    <tr style=\"text-align: right;\">\n",
       "      <th></th>\n",
       "      <th>count</th>\n",
       "      <th>mean</th>\n",
       "      <th>min</th>\n",
       "      <th>25%</th>\n",
       "      <th>50%</th>\n",
       "      <th>75%</th>\n",
       "      <th>max</th>\n",
       "      <th>std</th>\n",
       "    </tr>\n",
       "  </thead>\n",
       "  <tbody>\n",
       "    <tr>\n",
       "      <th>Quantity</th>\n",
       "      <td>515255.00000</td>\n",
       "      <td>10.95663</td>\n",
       "      <td>-9600.00000</td>\n",
       "      <td>1.00000</td>\n",
       "      <td>3.00000</td>\n",
       "      <td>10.00000</td>\n",
       "      <td>19152.00000</td>\n",
       "      <td>104.35401</td>\n",
       "    </tr>\n",
       "    <tr>\n",
       "      <th>InvoiceDate</th>\n",
       "      <td>515255</td>\n",
       "      <td>2010-06-28 17:41:06.558422528</td>\n",
       "      <td>2009-12-01 07:45:00</td>\n",
       "      <td>2010-03-21 13:27:00</td>\n",
       "      <td>2010-07-06 13:13:00</td>\n",
       "      <td>2010-10-15 14:27:00</td>\n",
       "      <td>2010-12-09 20:01:00</td>\n",
       "      <td>NaN</td>\n",
       "    </tr>\n",
       "    <tr>\n",
       "      <th>Price</th>\n",
       "      <td>515255.00000</td>\n",
       "      <td>3.95637</td>\n",
       "      <td>-53594.36000</td>\n",
       "      <td>1.25000</td>\n",
       "      <td>2.10000</td>\n",
       "      <td>4.21000</td>\n",
       "      <td>25111.09000</td>\n",
       "      <td>127.68856</td>\n",
       "    </tr>\n",
       "    <tr>\n",
       "      <th>Customer ID</th>\n",
       "      <td>407695.00000</td>\n",
       "      <td>15368.50411</td>\n",
       "      <td>12346.00000</td>\n",
       "      <td>13997.00000</td>\n",
       "      <td>15321.00000</td>\n",
       "      <td>16812.00000</td>\n",
       "      <td>18287.00000</td>\n",
       "      <td>1679.79570</td>\n",
       "    </tr>\n",
       "  </tbody>\n",
       "</table>\n",
       "</div>"
      ],
      "text/plain": [
       "                   count                           mean                  min  \\\n",
       "Quantity    515255.00000                       10.95663          -9600.00000   \n",
       "InvoiceDate       515255  2010-06-28 17:41:06.558422528  2009-12-01 07:45:00   \n",
       "Price       515255.00000                        3.95637         -53594.36000   \n",
       "Customer ID 407695.00000                    15368.50411          12346.00000   \n",
       "\n",
       "                             25%                  50%                  75%  \\\n",
       "Quantity                 1.00000              3.00000             10.00000   \n",
       "InvoiceDate  2010-03-21 13:27:00  2010-07-06 13:13:00  2010-10-15 14:27:00   \n",
       "Price                    1.25000              2.10000              4.21000   \n",
       "Customer ID          13997.00000          15321.00000          16812.00000   \n",
       "\n",
       "                             max        std  \n",
       "Quantity             19152.00000  104.35401  \n",
       "InvoiceDate  2010-12-09 20:01:00        NaN  \n",
       "Price                25111.09000  127.68856  \n",
       "Customer ID          18287.00000 1679.79570  "
      ]
     },
     "execution_count": 7,
     "metadata": {},
     "output_type": "execute_result"
    }
   ],
   "source": [
    "df.describe().T"
   ]
  },
  {
   "cell_type": "code",
   "execution_count": 8,
   "id": "5447bee1-a422-4e80-8fed-2c8e0029e969",
   "metadata": {
    "tags": []
   },
   "outputs": [],
   "source": [
    "df = df[(df['Quantity'] > 0)]\n",
    "df.dropna(inplace=True)"
   ]
  },
  {
   "cell_type": "code",
   "execution_count": 9,
   "id": "a1b645b9-3d13-489f-b099-a8c4e4e149d8",
   "metadata": {
    "tags": []
   },
   "outputs": [],
   "source": [
    "df[\"TotalPrice\"] = df[\"Quantity\"] * df[\"Price\"]"
   ]
  },
  {
   "cell_type": "code",
   "execution_count": 10,
   "id": "5ebdfb0f-b7e7-4ec8-8af3-ab0c174e2f6b",
   "metadata": {},
   "outputs": [],
   "source": [
    "cltv_c = df.groupby('Customer ID').agg({'Invoice': lambda x: x.nunique(),\n",
    "                                        'Quantity': lambda x: x.sum(),\n",
    "                                        'TotalPrice': lambda x: x.sum()})"
   ]
  },
  {
   "cell_type": "code",
   "execution_count": 11,
   "id": "a3f7e3c8-672e-4a0a-9ced-347e462ef8a3",
   "metadata": {},
   "outputs": [],
   "source": [
    "cltv_c.columns = ['total_transaction', 'total_unit', 'total_price']"
   ]
  },
  {
   "cell_type": "markdown",
   "id": "1aafe32d-5ba5-4058-ab6d-75d871afef29",
   "metadata": {},
   "source": [
    "#### 2. Average Order Value (average_order_value = total_price / total_transaction)"
   ]
  },
  {
   "cell_type": "code",
   "execution_count": 12,
   "id": "b529821c-769b-4b69-be6d-fa4232afbd51",
   "metadata": {
    "tags": []
   },
   "outputs": [
    {
     "data": {
      "text/html": [
       "<div>\n",
       "<style scoped>\n",
       "    .dataframe tbody tr th:only-of-type {\n",
       "        vertical-align: middle;\n",
       "    }\n",
       "\n",
       "    .dataframe tbody tr th {\n",
       "        vertical-align: top;\n",
       "    }\n",
       "\n",
       "    .dataframe thead th {\n",
       "        text-align: right;\n",
       "    }\n",
       "</style>\n",
       "<table border=\"1\" class=\"dataframe\">\n",
       "  <thead>\n",
       "    <tr style=\"text-align: right;\">\n",
       "      <th></th>\n",
       "      <th>total_transaction</th>\n",
       "      <th>total_unit</th>\n",
       "      <th>total_price</th>\n",
       "    </tr>\n",
       "    <tr>\n",
       "      <th>Customer ID</th>\n",
       "      <th></th>\n",
       "      <th></th>\n",
       "      <th></th>\n",
       "    </tr>\n",
       "  </thead>\n",
       "  <tbody>\n",
       "    <tr>\n",
       "      <th>12346.00000</th>\n",
       "      <td>11</td>\n",
       "      <td>70</td>\n",
       "      <td>372.86000</td>\n",
       "    </tr>\n",
       "    <tr>\n",
       "      <th>12347.00000</th>\n",
       "      <td>2</td>\n",
       "      <td>828</td>\n",
       "      <td>1323.32000</td>\n",
       "    </tr>\n",
       "    <tr>\n",
       "      <th>12348.00000</th>\n",
       "      <td>1</td>\n",
       "      <td>373</td>\n",
       "      <td>222.16000</td>\n",
       "    </tr>\n",
       "    <tr>\n",
       "      <th>12349.00000</th>\n",
       "      <td>3</td>\n",
       "      <td>993</td>\n",
       "      <td>2671.14000</td>\n",
       "    </tr>\n",
       "    <tr>\n",
       "      <th>12351.00000</th>\n",
       "      <td>1</td>\n",
       "      <td>261</td>\n",
       "      <td>300.93000</td>\n",
       "    </tr>\n",
       "  </tbody>\n",
       "</table>\n",
       "</div>"
      ],
      "text/plain": [
       "             total_transaction  total_unit  total_price\n",
       "Customer ID                                            \n",
       "12346.00000                 11          70    372.86000\n",
       "12347.00000                  2         828   1323.32000\n",
       "12348.00000                  1         373    222.16000\n",
       "12349.00000                  3         993   2671.14000\n",
       "12351.00000                  1         261    300.93000"
      ]
     },
     "execution_count": 12,
     "metadata": {},
     "output_type": "execute_result"
    }
   ],
   "source": [
    "cltv_c.head()"
   ]
  },
  {
   "cell_type": "code",
   "execution_count": 13,
   "id": "ce831068-0fbf-49a1-9749-9d962e4c221a",
   "metadata": {
    "tags": []
   },
   "outputs": [],
   "source": [
    "cltv_c[\"average_order_value\"] = cltv_c[\"total_price\"] / cltv_c[\"total_transaction\"]"
   ]
  },
  {
   "cell_type": "markdown",
   "id": "de5f7702-1c46-4b37-a6c6-474c0f222080",
   "metadata": {},
   "source": [
    "#### 3. Purchase Frequency (total_transaction / total_number_of_customers)"
   ]
  },
  {
   "cell_type": "code",
   "execution_count": 14,
   "id": "46148620-7eaf-4f2d-b1ce-c38b7b1c78c2",
   "metadata": {
    "tags": []
   },
   "outputs": [
    {
     "data": {
      "text/html": [
       "<div>\n",
       "<style scoped>\n",
       "    .dataframe tbody tr th:only-of-type {\n",
       "        vertical-align: middle;\n",
       "    }\n",
       "\n",
       "    .dataframe tbody tr th {\n",
       "        vertical-align: top;\n",
       "    }\n",
       "\n",
       "    .dataframe thead th {\n",
       "        text-align: right;\n",
       "    }\n",
       "</style>\n",
       "<table border=\"1\" class=\"dataframe\">\n",
       "  <thead>\n",
       "    <tr style=\"text-align: right;\">\n",
       "      <th></th>\n",
       "      <th>total_transaction</th>\n",
       "      <th>total_unit</th>\n",
       "      <th>total_price</th>\n",
       "      <th>average_order_value</th>\n",
       "    </tr>\n",
       "    <tr>\n",
       "      <th>Customer ID</th>\n",
       "      <th></th>\n",
       "      <th></th>\n",
       "      <th></th>\n",
       "      <th></th>\n",
       "    </tr>\n",
       "  </thead>\n",
       "  <tbody>\n",
       "    <tr>\n",
       "      <th>12346.00000</th>\n",
       "      <td>11</td>\n",
       "      <td>70</td>\n",
       "      <td>372.86000</td>\n",
       "      <td>33.89636</td>\n",
       "    </tr>\n",
       "    <tr>\n",
       "      <th>12347.00000</th>\n",
       "      <td>2</td>\n",
       "      <td>828</td>\n",
       "      <td>1323.32000</td>\n",
       "      <td>661.66000</td>\n",
       "    </tr>\n",
       "    <tr>\n",
       "      <th>12348.00000</th>\n",
       "      <td>1</td>\n",
       "      <td>373</td>\n",
       "      <td>222.16000</td>\n",
       "      <td>222.16000</td>\n",
       "    </tr>\n",
       "    <tr>\n",
       "      <th>12349.00000</th>\n",
       "      <td>3</td>\n",
       "      <td>993</td>\n",
       "      <td>2671.14000</td>\n",
       "      <td>890.38000</td>\n",
       "    </tr>\n",
       "    <tr>\n",
       "      <th>12351.00000</th>\n",
       "      <td>1</td>\n",
       "      <td>261</td>\n",
       "      <td>300.93000</td>\n",
       "      <td>300.93000</td>\n",
       "    </tr>\n",
       "  </tbody>\n",
       "</table>\n",
       "</div>"
      ],
      "text/plain": [
       "             total_transaction  total_unit  total_price  average_order_value\n",
       "Customer ID                                                                 \n",
       "12346.00000                 11          70    372.86000             33.89636\n",
       "12347.00000                  2         828   1323.32000            661.66000\n",
       "12348.00000                  1         373    222.16000            222.16000\n",
       "12349.00000                  3         993   2671.14000            890.38000\n",
       "12351.00000                  1         261    300.93000            300.93000"
      ]
     },
     "execution_count": 14,
     "metadata": {},
     "output_type": "execute_result"
    }
   ],
   "source": [
    "cltv_c.head()"
   ]
  },
  {
   "cell_type": "code",
   "execution_count": 15,
   "id": "2f419ff5-b7b3-4290-82d4-00b79cdc941e",
   "metadata": {
    "tags": []
   },
   "outputs": [
    {
     "data": {
      "text/plain": [
       "4314"
      ]
     },
     "execution_count": 15,
     "metadata": {},
     "output_type": "execute_result"
    }
   ],
   "source": [
    "cltv_c.shape[0]"
   ]
  },
  {
   "cell_type": "code",
   "execution_count": 16,
   "id": "e7567048-b505-4103-b0c0-a74deeb3b000",
   "metadata": {
    "tags": []
   },
   "outputs": [],
   "source": [
    "cltv_c[\"purchase_frequency\"] = cltv_c[\"total_transaction\"] / cltv_c.shape[0]"
   ]
  },
  {
   "cell_type": "markdown",
   "id": "200f51cb-2096-4525-a190-72732c2d9520",
   "metadata": {},
   "source": [
    "#### 4. Repeat Rate & Churn Rate (birden fazla alışveriş yapan müşteri sayısı / tüm müşteriler)"
   ]
  },
  {
   "cell_type": "code",
   "execution_count": 17,
   "id": "34e327d6-26f4-4d04-af58-3407b72d247a",
   "metadata": {
    "tags": []
   },
   "outputs": [],
   "source": [
    "repeat_rate = cltv_c[cltv_c[\"total_transaction\"] > 1].shape[0] / cltv_c.shape[0]"
   ]
  },
  {
   "cell_type": "code",
   "execution_count": 18,
   "id": "414b5de5-9027-4bb4-b28f-3759bc6534f0",
   "metadata": {
    "tags": []
   },
   "outputs": [],
   "source": [
    "churn_rate = 1 - repeat_rate"
   ]
  },
  {
   "cell_type": "markdown",
   "id": "6419a082-f086-46d9-a497-43e406ef4fee",
   "metadata": {},
   "source": [
    "#### 5. Profit Margin (profit_margin =  total_price * 0.10)"
   ]
  },
  {
   "cell_type": "code",
   "execution_count": 19,
   "id": "941b3af3-bc09-4880-a1f9-f84b33ce5536",
   "metadata": {
    "tags": []
   },
   "outputs": [],
   "source": [
    "cltv_c['profit_margin'] = cltv_c['total_price'] * 0.10"
   ]
  },
  {
   "cell_type": "markdown",
   "id": "e6da1d35-3690-40c8-97fb-5abb1e34e2fd",
   "metadata": {},
   "source": [
    "#### 6. Customer Value (customer_value = average_order_value * purchase_frequency)"
   ]
  },
  {
   "cell_type": "code",
   "execution_count": 20,
   "id": "de5a6e14-bc39-48c4-b99a-35aadcf0a695",
   "metadata": {
    "tags": []
   },
   "outputs": [],
   "source": [
    "cltv_c['customer_value'] = cltv_c['average_order_value'] * cltv_c[\"purchase_frequency\"]"
   ]
  },
  {
   "cell_type": "markdown",
   "id": "326bed9a-0d40-4a49-96cf-6711b5199107",
   "metadata": {},
   "source": [
    "#### 7. Customer Lifetime Value (CLTV = (customer_value / churn_rate) x profit_margin)"
   ]
  },
  {
   "cell_type": "code",
   "execution_count": 21,
   "id": "11de085c-11eb-447e-b285-fd8b22a5d08c",
   "metadata": {
    "tags": []
   },
   "outputs": [
    {
     "data": {
      "text/html": [
       "<div>\n",
       "<style scoped>\n",
       "    .dataframe tbody tr th:only-of-type {\n",
       "        vertical-align: middle;\n",
       "    }\n",
       "\n",
       "    .dataframe tbody tr th {\n",
       "        vertical-align: top;\n",
       "    }\n",
       "\n",
       "    .dataframe thead th {\n",
       "        text-align: right;\n",
       "    }\n",
       "</style>\n",
       "<table border=\"1\" class=\"dataframe\">\n",
       "  <thead>\n",
       "    <tr style=\"text-align: right;\">\n",
       "      <th></th>\n",
       "      <th>total_transaction</th>\n",
       "      <th>total_unit</th>\n",
       "      <th>total_price</th>\n",
       "      <th>average_order_value</th>\n",
       "      <th>purchase_frequency</th>\n",
       "      <th>profit_margin</th>\n",
       "      <th>customer_value</th>\n",
       "      <th>cltv</th>\n",
       "    </tr>\n",
       "    <tr>\n",
       "      <th>Customer ID</th>\n",
       "      <th></th>\n",
       "      <th></th>\n",
       "      <th></th>\n",
       "      <th></th>\n",
       "      <th></th>\n",
       "      <th></th>\n",
       "      <th></th>\n",
       "      <th></th>\n",
       "    </tr>\n",
       "  </thead>\n",
       "  <tbody>\n",
       "    <tr>\n",
       "      <th>18102.00000</th>\n",
       "      <td>89</td>\n",
       "      <td>124216</td>\n",
       "      <td>349164.35000</td>\n",
       "      <td>3923.19494</td>\n",
       "      <td>0.02063</td>\n",
       "      <td>34916.43500</td>\n",
       "      <td>80.93749</td>\n",
       "      <td>8579573.77276</td>\n",
       "    </tr>\n",
       "    <tr>\n",
       "      <th>14646.00000</th>\n",
       "      <td>78</td>\n",
       "      <td>170342</td>\n",
       "      <td>248396.50000</td>\n",
       "      <td>3184.57051</td>\n",
       "      <td>0.01808</td>\n",
       "      <td>24839.65000</td>\n",
       "      <td>57.57916</td>\n",
       "      <td>4342070.45829</td>\n",
       "    </tr>\n",
       "    <tr>\n",
       "      <th>14156.00000</th>\n",
       "      <td>102</td>\n",
       "      <td>108107</td>\n",
       "      <td>196566.74000</td>\n",
       "      <td>1927.12490</td>\n",
       "      <td>0.02364</td>\n",
       "      <td>19656.67400</td>\n",
       "      <td>45.56484</td>\n",
       "      <td>2719105.08615</td>\n",
       "    </tr>\n",
       "    <tr>\n",
       "      <th>14911.00000</th>\n",
       "      <td>205</td>\n",
       "      <td>69722</td>\n",
       "      <td>152147.57000</td>\n",
       "      <td>742.18327</td>\n",
       "      <td>0.04752</td>\n",
       "      <td>15214.75700</td>\n",
       "      <td>35.26833</td>\n",
       "      <td>1629055.80978</td>\n",
       "    </tr>\n",
       "    <tr>\n",
       "      <th>13694.00000</th>\n",
       "      <td>94</td>\n",
       "      <td>125893</td>\n",
       "      <td>131443.19000</td>\n",
       "      <td>1398.33181</td>\n",
       "      <td>0.02179</td>\n",
       "      <td>13144.31900</td>\n",
       "      <td>30.46898</td>\n",
       "      <td>1215855.89003</td>\n",
       "    </tr>\n",
       "  </tbody>\n",
       "</table>\n",
       "</div>"
      ],
      "text/plain": [
       "             total_transaction  total_unit  total_price  average_order_value  \\\n",
       "Customer ID                                                                    \n",
       "18102.00000                 89      124216 349164.35000           3923.19494   \n",
       "14646.00000                 78      170342 248396.50000           3184.57051   \n",
       "14156.00000                102      108107 196566.74000           1927.12490   \n",
       "14911.00000                205       69722 152147.57000            742.18327   \n",
       "13694.00000                 94      125893 131443.19000           1398.33181   \n",
       "\n",
       "             purchase_frequency  profit_margin  customer_value          cltv  \n",
       "Customer ID                                                                   \n",
       "18102.00000             0.02063    34916.43500        80.93749 8579573.77276  \n",
       "14646.00000             0.01808    24839.65000        57.57916 4342070.45829  \n",
       "14156.00000             0.02364    19656.67400        45.56484 2719105.08615  \n",
       "14911.00000             0.04752    15214.75700        35.26833 1629055.80978  \n",
       "13694.00000             0.02179    13144.31900        30.46898 1215855.89003  "
      ]
     },
     "execution_count": 21,
     "metadata": {},
     "output_type": "execute_result"
    }
   ],
   "source": [
    "cltv_c[\"cltv\"] = (cltv_c[\"customer_value\"] / churn_rate) * cltv_c[\"profit_margin\"]\n",
    "\n",
    "cltv_c.sort_values(by=\"cltv\", ascending=False).head()"
   ]
  },
  {
   "cell_type": "markdown",
   "id": "5b06cd2a-140b-4cf4-b500-be3e90f36dda",
   "metadata": {},
   "source": [
    "#### 8. Segmentlerin Oluşturulması"
   ]
  },
  {
   "cell_type": "code",
   "execution_count": 22,
   "id": "06907fc4-dd95-4943-aef6-5f5de82b0811",
   "metadata": {
    "tags": []
   },
   "outputs": [
    {
     "name": "stderr",
     "output_type": "stream",
     "text": [
      "C:\\Users\\derya\\AppData\\Local\\Temp\\ipykernel_15740\\481795899.py:7: FutureWarning: The default of observed=False is deprecated and will be changed to True in a future version of pandas. Pass observed=False to retain current behavior or observed=True to adopt the future default and silence this warning.\n",
      "  cltv_c.groupby(\"segment\").agg({\"count\", \"mean\", \"sum\"})\n"
     ]
    }
   ],
   "source": [
    "cltv_c.sort_values(by=\"cltv\", ascending=False).tail()\n",
    "\n",
    "cltv_c[\"segment\"] = pd.qcut(cltv_c[\"cltv\"], 4, labels=[\"D\", \"C\", \"B\", \"A\"])\n",
    "\n",
    "cltv_c.sort_values(by=\"cltv\", ascending=False).head()\n",
    "\n",
    "cltv_c.groupby(\"segment\").agg({\"count\", \"mean\", \"sum\"})\n",
    "\n",
    "cltv_c.to_csv(\"cltc_c.csv\")\n",
    "\n",
    "# 18102.00000       A\n",
    "# 14646.00000       A\n",
    "# 14156.00000       A\n",
    "# 14911.00000       A\n",
    "# 13694.00000       A\n",
    "\n",
    "# Customer ID\n",
    "# 18102.00000       A\n",
    "# 14646.00000       A\n",
    "# 14156.00000       A\n",
    "# 14911.00000       A\n",
    "# 13694.00000       A"
   ]
  },
  {
   "cell_type": "markdown",
   "id": "6c533e77-ff43-4936-a347-b31c42733d3d",
   "metadata": {},
   "source": [
    "#### 9. BONUS: Tüm İşlemlerin Fonksiyonlaştırılması"
   ]
  },
  {
   "cell_type": "code",
   "execution_count": 23,
   "id": "ffb487ae-f92b-4d52-baef-c9aba7bb7c5a",
   "metadata": {
    "tags": []
   },
   "outputs": [],
   "source": [
    "def create_cltv_c(dataframe, profit=0.10):\n",
    "\n",
    "    # Veriyi hazırlama\n",
    "    dataframe = dataframe[~dataframe[\"Invoice\"].str.contains(\"C\", na=False)]\n",
    "    dataframe = dataframe[(dataframe['Quantity'] > 0)]\n",
    "    dataframe.dropna(inplace=True)\n",
    "    dataframe[\"TotalPrice\"] = dataframe[\"Quantity\"] * dataframe[\"Price\"]\n",
    "    cltv_c = dataframe.groupby('Customer ID').agg({'Invoice': lambda x: x.nunique(),\n",
    "                                                   'Quantity': lambda x: x.sum(),\n",
    "                                                   'TotalPrice': lambda x: x.sum()})\n",
    "    cltv_c.columns = ['total_transaction', 'total_unit', 'total_price']\n",
    "    # avg_order_value\n",
    "    cltv_c['avg_order_value'] = cltv_c['total_price'] / cltv_c['total_transaction']\n",
    "    # purchase_frequency\n",
    "    cltv_c[\"purchase_frequency\"] = cltv_c['total_transaction'] / cltv_c.shape[0]\n",
    "    # repeat rate & churn rate\n",
    "    repeat_rate = cltv_c[cltv_c.total_transaction > 1].shape[0] / cltv_c.shape[0]\n",
    "    churn_rate = 1 - repeat_rate\n",
    "    # profit_margin\n",
    "    cltv_c['profit_margin'] = cltv_c['total_price'] * profit\n",
    "    # Customer Value\n",
    "    cltv_c['customer_value'] = (cltv_c['avg_order_value'] * cltv_c[\"purchase_frequency\"])\n",
    "    # Customer Lifetime Value\n",
    "    cltv_c['cltv'] = (cltv_c['customer_value'] / churn_rate) * cltv_c['profit_margin']\n",
    "    # Segment\n",
    "    cltv_c[\"segment\"] = pd.qcut(cltv_c[\"cltv\"], 4, labels=[\"D\", \"C\", \"B\", \"A\"])\n",
    "\n",
    "    return cltv_c\n",
    "\n",
    "\n",
    "df = df_.copy()\n",
    "\n",
    "clv = create_cltv_c(df)"
   ]
  },
  {
   "cell_type": "markdown",
   "id": "46198593-0e74-47e1-acd5-861f37e7ffcb",
   "metadata": {
    "tags": []
   },
   "source": [
    "#### The End"
   ]
  },
  {
   "cell_type": "code",
   "execution_count": null,
   "id": "8cc043df-5cda-41c0-bfae-1cda8789c812",
   "metadata": {},
   "outputs": [],
   "source": []
  }
 ],
 "metadata": {
  "kernelspec": {
   "display_name": "Python 3 (ipykernel)",
   "language": "python",
   "name": "python3"
  },
  "language_info": {
   "codemirror_mode": {
    "name": "ipython",
    "version": 3
   },
   "file_extension": ".py",
   "mimetype": "text/x-python",
   "name": "python",
   "nbconvert_exporter": "python",
   "pygments_lexer": "ipython3",
   "version": "3.11.5"
  }
 },
 "nbformat": 4,
 "nbformat_minor": 5
}
